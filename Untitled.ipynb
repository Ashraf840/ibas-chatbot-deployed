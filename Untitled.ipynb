{
 "cells": [
  {
   "cell_type": "code",
   "execution_count": 1,
   "id": "24cc5860",
   "metadata": {},
   "outputs": [
    {
     "name": "stderr",
     "output_type": "stream",
     "text": [
      "WARNING:root:The current version (3.3.2) of bnlp will not be compatible with the upcoming release.\n",
      "If you are using version <=3.3.2 please specify bnlp_toolkit with exact version, otherwise it will raises error in the upcoming version. \n",
      "To migrate feel free to checkout the newer version (4.0.0). It will release soon as beta.\n",
      "2023-12-18 18:18:37.558987: W tensorflow/stream_executor/platform/default/dso_loader.cc:64] Could not load dynamic library 'libcudart.so.11.0'; dlerror: libcudart.so.11.0: cannot open shared object file: No such file or directory\n",
      "2023-12-18 18:18:37.559022: I tensorflow/stream_executor/cuda/cudart_stub.cc:29] Ignore above cudart dlerror if you do not have a GPU set up on your machine.\n"
     ]
    }
   ],
   "source": [
    "from bnaug.sentence import TokenReplacement"
   ]
  },
  {
   "cell_type": "code",
   "execution_count": 2,
   "id": "db5bcb64",
   "metadata": {},
   "outputs": [
    {
     "name": "stderr",
     "output_type": "stream",
     "text": [
      "Some weights of the model checkpoint at sagorsarker/bangla-bert-base were not used when initializing BertForMaskedLM: ['cls.seq_relationship.bias', 'cls.seq_relationship.weight']\n",
      "- This IS expected if you are initializing BertForMaskedLM from the checkpoint of a model trained on another task or with another architecture (e.g. initializing a BertForSequenceClassification model from a BertForPreTraining model).\n",
      "- This IS NOT expected if you are initializing BertForMaskedLM from the checkpoint of a model that you expect to be exactly identical (initializing a BertForSequenceClassification model from a BertForSequenceClassification model).\n",
      "Some weights of BertForMaskedLM were not initialized from the model checkpoint at sagorsarker/bangla-bert-base and are newly initialized: ['cls.predictions.decoder.weight']\n",
      "You should probably TRAIN this model on a down-stream task to be able to use it for predictions and inference.\n"
     ]
    },
    {
     "name": "stdout",
     "output_type": "stream",
     "text": [
      "['আমি ঢাকায বাস করি ।', 'আমি ঢাকায বাস করি?', 'আমি ঢাকায বাস করি!', 'আমি ঢাকায বাস করি না', 'আমি ঢাকায বাস করি', 'আমি ঢাকায বাস করি ।', 'আমি ঢাকায বাস করি?', 'আমি ঢাকায বাস করি!', 'আমি ঢাকায বাস করি না', 'আমি ঢাকায বাস করি', 'আমি ঢাকায বাস করি ।', 'আমি ঢাকায ভ্রমণ করি ।', 'আমি ঢাকায কাজ করি ।', 'আমি ঢাকায ব্যবহার করি ।', 'আমি ঢাকায পালন করি ।', 'আমি ঢাকায বাস করি ।', 'আমি ঢাকায বাস করি?', 'আমি ঢাকায বাস করি!', 'আমি ঢাকায বাস করি না', 'আমি ঢাকায বাস করি', 'আমরা ঢাকায বাস করি ।', 'আমি ঢাকায বাস করি ।', 'এখানে ঢাকায বাস করি ।', 'সেখানে ঢাকায বাস করি ।', 'বাসে ঢাকায বাস করি ।']\n"
     ]
    }
   ],
   "source": [
    "tokr = TokenReplacement()\n",
    "text = \"আমি ঢাকায় বাস করি।\"\n",
    "output = tokr.masking_based(text, sen_n=5)\n",
    "print(output)"
   ]
  },
  {
   "cell_type": "code",
   "execution_count": 4,
   "id": "4bb31865",
   "metadata": {},
   "outputs": [
    {
     "name": "stdout",
     "output_type": "stream",
     "text": [
      "[Errno 2] No such file or directory: 'msc/bangla_word2vec/bnwiki_word2vec.model'\n",
      "[Errno 2] No such file or directory: 'msc/bangla_word2vec/bnwiki_word2vec.model'\n",
      "[Errno 2] No such file or directory: 'msc/bangla_word2vec/bnwiki_word2vec.model'\n",
      "[Errno 2] No such file or directory: 'msc/bangla_word2vec/bnwiki_word2vec.model'\n",
      "[Errno 2] No such file or directory: 'msc/bangla_word2vec/bnwiki_word2vec.model'\n",
      "[]\n"
     ]
    }
   ],
   "source": [
    "tokr = TokenReplacement()\n",
    "text = \"আমি ঢাকায় বাস করি।\"\n",
    "model = \"msc/bangla_word2vec/bnwiki_word2vec.model\"\n",
    "output = tokr.word2vec_based(text, model=model, sen_n=5, word_n=5)\n",
    "print(output)"
   ]
  },
  {
   "cell_type": "code",
   "execution_count": 5,
   "id": "fda727a8",
   "metadata": {},
   "outputs": [
    {
     "name": "stdout",
     "output_type": "stream",
     "text": [
      "[Errno 2] No such file or directory: 'msc/bn_glove.300d.txt'\n",
      "[Errno 2] No such file or directory: 'msc/bn_glove.300d.txt'\n",
      "[Errno 2] No such file or directory: 'msc/bn_glove.300d.txt'\n",
      "[Errno 2] No such file or directory: 'msc/bn_glove.300d.txt'\n",
      "[Errno 2] No such file or directory: 'msc/bn_glove.300d.txt'\n",
      "[]\n"
     ]
    }
   ],
   "source": [
    "tokr = TokenReplacement()\n",
    "text = \"আমি ঢাকায় বাস করি।\"\n",
    "vector = \"msc/bn_glove.300d.txt\"\n",
    "output = tokr.glove_based(text, vector_path=vector, sen_n=5, word_n=5)\n",
    "print(output)"
   ]
  },
  {
   "cell_type": "code",
   "execution_count": 6,
   "id": "c09fad16",
   "metadata": {},
   "outputs": [
    {
     "name": "stdout",
     "output_type": "stream",
     "text": [
      "বাকি দিলাম\n",
      "১০০ বাকি দিলাম\n",
      "১০০ বাকি দিলাম\n",
      "১০০ বাকি দিলাম\n",
      "১০০ বাকি দিলাম\n"
     ]
    }
   ],
   "source": [
    "from bnaug import randaug\n",
    "\n",
    "text = \"১০০ বাকি দিলাম\"\n",
    "output = randaug.remove_digits(text)\n",
    "print(output)\n",
    "\n",
    "text = \"১০০! বাকি দিলাম?\"\n",
    "output = randaug.remove_punctuations(text)\n",
    "print(output)\n",
    "\n",
    "text = \"আমি ১০০ বাকি দিলাম\"\n",
    "randaug.remove_stopwords(text)\n",
    "print(output)\n",
    "\n",
    "text = \"আমি ১০০ বাকি দিলাম\"\n",
    "randaug.remove_random_word(text)\n",
    "print(output)\n",
    "\n",
    "text = \"আমি ১০০ বাকি দিলাম\"\n",
    "randaug.remove_random_char(text)\n",
    "print(output)"
   ]
  },
  {
   "cell_type": "code",
   "execution_count": null,
   "id": "ffc197d2",
   "metadata": {},
   "outputs": [],
   "source": []
  }
 ],
 "metadata": {
  "kernelspec": {
   "display_name": "Python 3 (ipykernel)",
   "language": "python",
   "name": "python3"
  },
  "language_info": {
   "codemirror_mode": {
    "name": "ipython",
    "version": 3
   },
   "file_extension": ".py",
   "mimetype": "text/x-python",
   "name": "python",
   "nbconvert_exporter": "python",
   "pygments_lexer": "ipython3",
   "version": "3.9.12"
  }
 },
 "nbformat": 4,
 "nbformat_minor": 5
}
